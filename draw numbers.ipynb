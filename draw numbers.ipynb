{
 "cells": [
  {
   "cell_type": "code",
   "execution_count": 1,
   "metadata": {},
   "outputs": [
    {
     "ename": "ModuleNotFoundError",
     "evalue": "No module named 'pygame'",
     "output_type": "error",
     "traceback": [
      "\u001b[1;31m---------------------------------------------------------------------------\u001b[0m",
      "\u001b[1;31mModuleNotFoundError\u001b[0m                       Traceback (most recent call last)",
      "\u001b[1;32m<ipython-input-1-25045ad14d11>\u001b[0m in \u001b[0;36m<module>\u001b[1;34m\u001b[0m\n\u001b[1;32m----> 1\u001b[1;33m \u001b[1;32mimport\u001b[0m \u001b[0mpygame\u001b[0m\u001b[1;33m\u001b[0m\u001b[1;33m\u001b[0m\u001b[0m\n\u001b[0m\u001b[0;32m      2\u001b[0m \u001b[1;32mfrom\u001b[0m \u001b[0mpygame\u001b[0m\u001b[1;33m.\u001b[0m\u001b[0mlocals\u001b[0m \u001b[1;32mimport\u001b[0m \u001b[1;33m*\u001b[0m\u001b[1;33m\u001b[0m\u001b[1;33m\u001b[0m\u001b[0m\n\u001b[0;32m      3\u001b[0m \u001b[1;32mimport\u001b[0m \u001b[0msys\u001b[0m\u001b[1;33m,\u001b[0m \u001b[0mos\u001b[0m\u001b[1;33m,\u001b[0m \u001b[0mmath\u001b[0m\u001b[1;33m\u001b[0m\u001b[1;33m\u001b[0m\u001b[0m\n\u001b[0;32m      4\u001b[0m \u001b[1;32mimport\u001b[0m \u001b[0mtime\u001b[0m\u001b[1;33m\u001b[0m\u001b[1;33m\u001b[0m\u001b[0m\n\u001b[0;32m      5\u001b[0m \u001b[1;32mimport\u001b[0m \u001b[0mpygame\u001b[0m\u001b[1;33m.\u001b[0m\u001b[0mfont\u001b[0m\u001b[1;33m\u001b[0m\u001b[1;33m\u001b[0m\u001b[0m\n",
      "\u001b[1;31mModuleNotFoundError\u001b[0m: No module named 'pygame'"
     ]
    }
   ],
   "source": [
    "import pygame\n",
    "from pygame.locals import *\n",
    "import sys, os, math\n",
    "import time\n",
    "import pygame.font\n",
    "from tkinter import Tk\n",
    "from tkinter import *\n",
    "from tkinter import messagebox\n",
    "from keras.models import load_model\n",
    "from numpy import asarray\n",
    "from keras.models import load_model\n",
    "from keras.preprocessing.image import load_img\n",
    "from keras.preprocessing.image import img_to_array\n",
    "import cv2"
   ]
  },
  {
   "cell_type": "code",
   "execution_count": null,
   "metadata": {},
   "outputs": [],
   "source": [
    "_image_library = {}\n",
    "def get_image(path):\n",
    "        global _image_library\n",
    "        image = _image_library.get(path)\n",
    "        if image == None:\n",
    "                canonicalized_path = path.replace('/', os.sep).replace('\\\\', os.sep)\n",
    "                image = pygame.image.load(canonicalized_path)\n",
    "                _image_library[path] = image\n",
    "        return image"
   ]
  },
  {
   "cell_type": "code",
   "execution_count": null,
   "metadata": {},
   "outputs": [],
   "source": [
    "height = 512\n",
    "width = 512\n",
    "cs = 512 # basic image size\n",
    "cs2 = 512"
   ]
  },
  {
   "cell_type": "code",
   "execution_count": null,
   "metadata": {},
   "outputs": [],
   "source": [
    "clock = pygame.time.Clock()"
   ]
  },
  {
   "cell_type": "code",
   "execution_count": null,
   "metadata": {},
   "outputs": [],
   "source": [
    "pygame.display.set_caption('number predictor')"
   ]
  },
  {
   "cell_type": "code",
   "execution_count": null,
   "metadata": {},
   "outputs": [],
   "source": [
    "mouse = pygame.mouse"
   ]
  },
  {
   "cell_type": "code",
   "execution_count": null,
   "metadata": {},
   "outputs": [],
   "source": [
    "BLACK = pygame.Color( 0 ,  0 ,  0 )\n",
    "WHITE = pygame.Color(255, 255, 255)\n",
    "shotNumber = 1\n",
    "mlNo = 0"
   ]
  },
  {
   "cell_type": "code",
   "execution_count": null,
   "metadata": {},
   "outputs": [],
   "source": [
    "clock = pygame.time.Clock()"
   ]
  },
  {
   "cell_type": "code",
   "execution_count": null,
   "metadata": {},
   "outputs": [],
   "source": [
    "def saveScreen(): \n",
    "    global shotNumber, mlNo\n",
    "    mlNo += 1\n",
    "    save_name = \"images_drawn/photo\"+str(shotNumber)+\".jpg\"\n",
    "    pygame.image.save(window,save_name)\n",
    "    shotNumber += 1\n",
    "    print(shotNumber)"
   ]
  },
  {
   "cell_type": "code",
   "execution_count": null,
   "metadata": {},
   "outputs": [],
   "source": [
    "def load_image(filename):\n",
    "    img = cv2.imread(\"images_drawn/photo\"+str(mlNo)+\".jpg\")\n",
    "    width = 28\n",
    "    height = 28\n",
    "    dim = (width, height)\n",
    "    newphoto = cv2.cvtColor( img ,  cv2.COLOR_BGR2GRAY )\n",
    "    # resize image\n",
    "    resized = cv2.resize(newphoto, dim, interpolation = cv2.INTER_AREA)\n",
    "    img = resized.reshape(1, 28, 28, 1)\n",
    "    return img"
   ]
  },
  {
   "cell_type": "code",
   "execution_count": null,
   "metadata": {},
   "outputs": [],
   "source": [
    "image = \"images_drawn/photo\"+str(mlNo)+\".jpg\""
   ]
  },
  {
   "cell_type": "code",
   "execution_count": null,
   "metadata": {},
   "outputs": [],
   "source": [
    "def run_example():\n",
    "    img = load_image(image)\n",
    "    # load model\n",
    "    model = load_model('mnist1.h5')\n",
    "    # predict the class\n",
    "    digit = model.predict_classes(img)\n",
    "    return str(digit[0])"
   ]
  },
  {
   "cell_type": "code",
   "execution_count": null,
   "metadata": {},
   "outputs": [],
   "source": [
    "window = pygame.display.set_mode([512,512])\n",
    "canvas = window.copy()\n",
    "left_pressed, middle_pressed, right_pressed = mouse.get_pressed()\n",
    "canvas.fill(BLACK)\n",
    "global savePath,autoRotate, saveSource,preRot,flipH,flipV\n",
    "while True:\n",
    "    for event in pygame.event.get():\n",
    "        if event.type == QUIT:\n",
    "            pygame.quit()\n",
    "            sys.exit()\n",
    "        if event.type == pygame.KEYDOWN :\n",
    "            if event.key == pygame.K_ESCAPE :\n",
    "                terminate()\n",
    "            if event.key == pygame.K_s :\n",
    "                saveScreen()\n",
    "                Tk().wm_withdraw() #to hide the main window\n",
    "                messagebox.showinfo('Continue','the number you drew is '+ run_example())\n",
    "                print(\"File has been saved\")\n",
    "            if event.key == pygame.K_c :\n",
    "                canvas.fill(BLACK)                \n",
    "        elif pygame.mouse.get_pressed() == (1, 0, 0):\n",
    "            pygame.draw.circle(canvas, WHITE, (pygame.mouse.get_pos()),10)\n",
    "            window.fill(BLACK)\n",
    "    window.blit(canvas, (0, 0))\n",
    "    pygame.draw.circle(window,WHITE,(pygame.mouse.get_pos()),5)\n",
    "    pygame.display.update() \n",
    "    clock.tick(1000)"
   ]
  },
  {
   "cell_type": "code",
   "execution_count": null,
   "metadata": {},
   "outputs": [],
   "source": []
  },
  {
   "cell_type": "code",
   "execution_count": null,
   "metadata": {},
   "outputs": [],
   "source": []
  }
 ],
 "metadata": {
  "kernelspec": {
   "display_name": "Python 3",
   "language": "python",
   "name": "python3"
  },
  "language_info": {
   "codemirror_mode": {
    "name": "ipython",
    "version": 3
   },
   "file_extension": ".py",
   "mimetype": "text/x-python",
   "name": "python",
   "nbconvert_exporter": "python",
   "pygments_lexer": "ipython3",
   "version": "3.7.7"
  }
 },
 "nbformat": 4,
 "nbformat_minor": 4
}
